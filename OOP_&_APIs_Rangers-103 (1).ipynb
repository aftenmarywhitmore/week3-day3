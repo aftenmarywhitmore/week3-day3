{
 "cells": [
  {
   "cell_type": "markdown",
   "metadata": {},
   "source": [
    "# Object Oriented Programming 2 - examples and APIs\n"
   ]
  },
  {
   "cell_type": "markdown",
   "metadata": {},
   "source": [
    "## Tasks Today:\n",
    "\n",
    "   \n",
    "\n",
    "1) <b>Shopping Cart Example</b> <br>\n",
    "2) <b>Requests and the pokemon API </b> <br>\n",
    " "
   ]
  },
  {
   "cell_type": "markdown",
   "metadata": {},
   "source": [
    "# Goal \n",
    "### build a shopping cart program with prices and quantities using objects and a dictionary"
   ]
  },
  {
   "cell_type": "code",
   "execution_count": 2,
   "metadata": {},
   "outputs": [
    {
     "name": "stdout",
     "output_type": "stream",
     "text": [
      "Please buy something before checking out!\n"
     ]
    }
   ],
   "source": [
    "from IPython.display import clear_output as clear\n",
    "# Create a class called cart that retains items and has methods to add, remove, and show\n",
    "#this import is unique to Jupyter notebook and won't work in VS code \n",
    "class Cart():\n",
    "    def __init__(self):\n",
    "        self.items = {} #this will manage cart items/ {item:quantity}/{key:value}\n",
    "        \n",
    "    #add items to your cart \n",
    "    def add(self):\n",
    "        new_item = input(\"What do you want to add? \")\n",
    "        quantity = int(input(f\"How many {new_item}(s) do you want to add? (insert number)\"))\n",
    "        if new_item not in self.items.keys(): \n",
    "            self.items[new_item] = quantity\n",
    "        else:\n",
    "            self.items[new_item] += quantity\n",
    "        print(f\"{quantity} {new_item}(s) is/are in the cart\")\n",
    "    \n",
    "    #remove items from your cart\n",
    "    def remove(self): \n",
    "        discard = input(\"What would you like to discard? \")\n",
    "        quantity = int(input(\"How many would you like to remove? \"))\n",
    "        try: \n",
    "            self.items[discard] -= quantity\n",
    "            if self.items[discard] <= 0:\n",
    "                del self.items[discard]\n",
    "            print(f\"{quantity} {discard}(s) have been removed\")\n",
    "        except:\n",
    "            print(f\"{discard} was not in your cart!\")\n",
    "        self.show()\n",
    "        \n",
    "    #show items in your cart\n",
    "    def show(self):\n",
    "        print(\"Your cart has the following items: \")\n",
    "        for item, quantity in self.items.items():\n",
    "        #self.items is the first part in our __init__ dict;\n",
    "        # .items is the key:value pairs inside our dict\n",
    "            print(f\"{item} | quantity: {quantity}\")\n",
    "        \n",
    "    #checkout items from your cart \n",
    "    def checkout(self):\n",
    "        clear()\n",
    "        if not self.items:\n",
    "            print(\"Please buy something before checking out!\")\n",
    "        else:\n",
    "            print(\"Thanks for shopping at Jewel!\")\n",
    "            self.show()\n",
    "            \n",
    "#control flow - run the overall program\n",
    "class Main:\n",
    "    def showInstructions():\n",
    "        print(\"\"\"\n",
    "        Welcome to Aldi, we're the best and have great peanut butter cups! \n",
    "        Options:\n",
    "        [1] Show Current Cart\n",
    "        [2] Add items\n",
    "        [3] Remove items\n",
    "        [4] Quit\n",
    "        \"\"\")\n",
    "        \n",
    "    def run():\n",
    "        Main.showInstructions()\n",
    "        my_cart = Cart()\n",
    "        \n",
    "        while True:\n",
    "            choice = input(\"What would you like to do? \")\n",
    "            if choice == \"1\":\n",
    "                if my_cart.items == {}:\n",
    "                    print(\"Your cart is empty, lets get Chopin!\")\n",
    "                else: \n",
    "                    my_cart.show()\n",
    "            elif choice == \"2\" :\n",
    "                my_cart.add()\n",
    "                \n",
    "            elif choice == \"3\":\n",
    "                if my_cart.items == {}:\n",
    "                    print(\"Your cart is empty, please add sopmething before trying to remove!\")\n",
    "                else:\n",
    "                    my_cart.remove()\n",
    "                    \n",
    "            elif choice == \"4\":\n",
    "                my_cart.checkout()\n",
    "                break\n",
    "            \n",
    "            elif choice == \"5\":\n",
    "                Main.showInstructions()\n",
    "                \n",
    "            else:\n",
    "                print(\"invalid input, please try again!\")\n",
    "            \n",
    "Main.run()"
   ]
  },
  {
   "cell_type": "code",
   "execution_count": null,
   "metadata": {},
   "outputs": [],
   "source": [
    "# # control the logic and flow/operation of our overall program\n",
    "# class Main:\n",
    "#     def showInstructions():\n",
    "#         print(\"\"\"\n",
    "# Welcome to the Shopping Program.\n",
    "# Options:\n",
    "# [1] Show Current Cart\n",
    "# [2] Add Item\n",
    "# [3] Remove Item\n",
    "# [4] Quit\n",
    "#         \"\"\")\n",
    "    \n",
    "#     # driver code - responsible for actually calling all of my functions\n",
    "#     def run():\n",
    "#         Main.showInstructions()\n",
    "#         my_cart = Cart()\n",
    "        \n",
    "#         while True:\n",
    "#             choice = input(\"What would you like to do? \")\n",
    "#             if choice == '1':\n",
    "#                 if my_cart.items == {}:\n",
    "#                     print(\"Your cart is empty... start shopping\")\n",
    "#                 else:\n",
    "#                     my_cart.show()\n",
    "#             elif choice == '2':\n",
    "#                 my_cart.add()\n",
    "#             elif choice == '3':\n",
    "#                 if my_cart.items == {}:\n",
    "#                     print(\"Your cart is empty... add something before you remove it!\")\n",
    "#                 else:\n",
    "#                     my_cart.remove()\n",
    "#             elif choice == '4':\n",
    "#                 my_cart.checkout()\n",
    "#                 break\n",
    "#             else:\n",
    "#                 print(\"invalid input... please try again.\")\n",
    "                \n",
    "# Main.run()"
   ]
  },
  {
   "cell_type": "markdown",
   "metadata": {},
   "source": [
    "# working with APis"
   ]
  },
  {
   "cell_type": "markdown",
   "metadata": {},
   "source": [
    "<p> What exactly is an API? <br> <br>\n",
    "API is the acronym for Application Programming Interface, which is a software intermediary that allows two applications to talk to each other. Each time you use an app like Facebook, send an instant message, or check the weather on your phone, you're using an API. </p>"
   ]
  },
  {
   "cell_type": "markdown",
   "metadata": {},
   "source": [
    "### The Poke API  allows you to retreive a pokemon's information from PokeAPI https://pokeapi.co/\n",
    "\n"
   ]
  },
  {
   "cell_type": "code",
   "execution_count": 3,
   "metadata": {},
   "outputs": [
    {
     "name": "stdout",
     "output_type": "stream",
     "text": [
      "dict_keys(['abilities', 'base_experience', 'forms', 'game_indices', 'height', 'held_items', 'id', 'is_default', 'location_area_encounters', 'moves', 'name', 'order', 'past_types', 'species', 'sprites', 'stats', 'types', 'weight'])\n"
     ]
    }
   ],
   "source": [
    "# making an API call\n",
    "import requests\n",
    "\n",
    "\n",
    "r = requests.get(\"https://pokeapi.co/api/v2/pokemon/diglett\")\n",
    "\n",
    "if r.status_code == 200:\n",
    "    data = r.json() #json-ifying this to python (no idea what this means)\n",
    "print(data.keys())"
   ]
  },
  {
   "cell_type": "markdown",
   "metadata": {},
   "source": [
    "### Display a Pokemon's name, weight, abilities, and types"
   ]
  },
  {
   "cell_type": "code",
   "execution_count": 4,
   "metadata": {},
   "outputs": [
    {
     "name": "stdout",
     "output_type": "stream",
     "text": [
      "diglett\n"
     ]
    }
   ],
   "source": [
    "# get the name\n",
    "\n",
    "name = data[\"name\"]\n",
    "print(name)"
   ]
  },
  {
   "cell_type": "code",
   "execution_count": 5,
   "metadata": {},
   "outputs": [
    {
     "name": "stdout",
     "output_type": "stream",
     "text": [
      "['ground']\n"
     ]
    }
   ],
   "source": [
    "# get types\n",
    "\n",
    "types = [type_[\"type\"][\"name\"] for type_ in data[\"types\"]]\n",
    "\n",
    "#my_types = []\n",
    "#for type_ in data{\"types\"]:\n",
    "    #my_types.append(type_[\"type\"][\"name\"])\n",
    "#print(my_types)\n",
    "                  \n",
    "print(types)"
   ]
  },
  {
   "cell_type": "code",
   "execution_count": 6,
   "metadata": {},
   "outputs": [
    {
     "name": "stdout",
     "output_type": "stream",
     "text": [
      "8\n"
     ]
    }
   ],
   "source": [
    "# get weight\n",
    "\n",
    "weight = data[\"weight\"]\n",
    "print(weight)"
   ]
  },
  {
   "cell_type": "code",
   "execution_count": 7,
   "metadata": {},
   "outputs": [
    {
     "name": "stdout",
     "output_type": "stream",
     "text": [
      "['sand-veil', 'arena-trap', 'sand-force']\n"
     ]
    }
   ],
   "source": [
    "# get abilities\n",
    "\n",
    "abilities = [ability[\"ability\"][\"name\"] for ability in data[\"abilities\"]]\n",
    "print(abilities)\n"
   ]
  },
  {
   "cell_type": "code",
   "execution_count": 8,
   "metadata": {},
   "outputs": [
    {
     "name": "stdout",
     "output_type": "stream",
     "text": [
      "['scratch', 'cut', 'sand-attack', 'headbutt', 'body-slam', 'take-down', 'double-edge', 'growl', 'earthquake', 'fissure', 'dig', 'toxic', 'agility', 'rage', 'mimic', 'screech', 'double-team', 'bide', 'fury-swipes', 'rest', 'rock-slide', 'slash', 'substitute', 'thief', 'snore', 'curse', 'reversal', 'protect', 'feint-attack', 'sludge-bomb', 'mud-slap', 'sandstorm', 'endure', 'swagger', 'attract', 'sleep-talk', 'return', 'frustration', 'magnitude', 'pursuit', 'hidden-power', 'sunny-day', 'ancient-power', 'rock-smash', 'beat-up', 'uproar', 'memento', 'facade', 'secret-power', 'astonish', 'rock-tomb', 'aerial-ace', 'natural-gift', 'assurance', 'sucker-punch', 'earth-power', 'shadow-claw', 'mud-bomb', 'captivate', 'stealth-rock', 'hone-claws', 'round', 'echoed-voice', 'ally-switch', 'final-gambit', 'bulldoze', 'work-up', 'confide', 'stomping-tantrum', 'scorching-sands']\n"
     ]
    }
   ],
   "source": [
    "#get moves\n",
    "\n",
    "moves = [move[\"move\"][\"name\"] for move in data[\"moves\"]]\n",
    "print(moves)"
   ]
  },
  {
   "cell_type": "code",
   "execution_count": 9,
   "metadata": {},
   "outputs": [],
   "source": [
    "# Create a structure for a single pokemon\n",
    "my_pokemon = {\n",
    "    \"name\" : \"\",\n",
    "    \"abilities\" : [],\n",
    "    \"weight\" : \"\",\n",
    "    \"types\" : [],\n",
    "    \"moves\" : []\n",
    "}\n"
   ]
  },
  {
   "cell_type": "code",
   "execution_count": 10,
   "metadata": {},
   "outputs": [
    {
     "name": "stdout",
     "output_type": "stream",
     "text": [
      "{'name': 'diglett', 'abilities': ['sand-veil', 'arena-trap', 'sand-force'], 'weight': 8, 'types': ['ground'], 'moves': ['scratch', 'cut', 'sand-attack', 'headbutt', 'body-slam', 'take-down', 'double-edge', 'growl', 'earthquake', 'fissure', 'dig', 'toxic', 'agility', 'rage', 'mimic', 'screech', 'double-team', 'bide', 'fury-swipes', 'rest', 'rock-slide', 'slash', 'substitute', 'thief', 'snore', 'curse', 'reversal', 'protect', 'feint-attack', 'sludge-bomb', 'mud-slap', 'sandstorm', 'endure', 'swagger', 'attract', 'sleep-talk', 'return', 'frustration', 'magnitude', 'pursuit', 'hidden-power', 'sunny-day', 'ancient-power', 'rock-smash', 'beat-up', 'uproar', 'memento', 'facade', 'secret-power', 'astonish', 'rock-tomb', 'aerial-ace', 'natural-gift', 'assurance', 'sucker-punch', 'earth-power', 'shadow-claw', 'mud-bomb', 'captivate', 'stealth-rock', 'hone-claws', 'round', 'echoed-voice', 'ally-switch', 'final-gambit', 'bulldoze', 'work-up', 'confide', 'stomping-tantrum', 'scorching-sands']}\n"
     ]
    }
   ],
   "source": [
    "diglett = {\n",
    "    \"name\" : name,\n",
    "    \"abilities\" : abilities,\n",
    "    \"weight\" : weight,\n",
    "    \"types\" : types, \n",
    "    \"moves\" : moves\n",
    "}\n",
    "\n",
    "print(diglett)"
   ]
  },
  {
   "cell_type": "markdown",
   "metadata": {},
   "source": [
    "#### Create a function to Pull in your own Pokemon's data "
   ]
  },
  {
   "cell_type": "code",
   "execution_count": 13,
   "metadata": {},
   "outputs": [],
   "source": [
    "party = [\"oddish\", \"pikachu\", \"mew\", \"mewtoo\", \"geodude\"]\n",
    "def poke_api_call(pokemon):\n",
    "    req = requests.get(f\"https://pokeapi.co/api/v2/pokemon/{pokemon}\")\n",
    "    if req.status_code == 200:\n",
    "        data = req.json()\n",
    "        \n",
    "        name = data[\"name\"]\n",
    "        types = [pokemon[\"type\"][\"name\"] for pokemon in data[\"types\"]]\n",
    "        abilities = [pokemon[\"ability\"][\"name\"] for pokemon in data[\"abilities\"]]\n",
    "        weight = data[\"weight\"]\n",
    "        moves = [pokemon[\"move\"][\"name\"] for pokemon in data[\"moves\"]]\n",
    "        \n",
    "        poke = {\n",
    "            \"name\" : name,\n",
    "            \"abilities\" : abilities, \n",
    "            \"weight\" : weight,\n",
    "            \"types\" : types,\n",
    "            \"moves\" : moves\n",
    "        }\n",
    "        \n",
    "        return poke\n",
    "\n",
    "\n",
    "    "
   ]
  },
  {
   "cell_type": "markdown",
   "metadata": {},
   "source": [
    "Choose your pokemon"
   ]
  },
  {
   "cell_type": "code",
   "execution_count": null,
   "metadata": {},
   "outputs": [],
   "source": []
  },
  {
   "cell_type": "markdown",
   "metadata": {},
   "source": [
    "#### Use your function to create a dictionary of your favorite 6 pokemon"
   ]
  },
  {
   "cell_type": "code",
   "execution_count": null,
   "metadata": {},
   "outputs": [],
   "source": []
  },
  {
   "cell_type": "markdown",
   "metadata": {},
   "source": [
    "## Lets create a class called 'Pokemon' and create our pokemon as instances"
   ]
  },
  {
   "cell_type": "code",
   "execution_count": 15,
   "metadata": {},
   "outputs": [],
   "source": [
    "class Pokemon():\n",
    "    def __init__(self, name): #name is the only one we need to provide, the others will be default values\n",
    "        self.name = name\n",
    "        self.types = []\n",
    "        self.abilities = []\n",
    "        self.weight = None\n",
    "        self.poke_api_call() #when we instantiate this, we plug in our pokemon name and get data back (hehe wut the wut)\n",
    "        self.moves = []\n",
    "        \n",
    "    def poke_api_call(self):\n",
    "        r = requests.get(f\"https://pokeapi.co/api/v2/pokemon/{self.name.lower()}\")\n",
    "        if r.status_code == 200:\n",
    "            pokemon = r.json() #pokemon is our current data\n",
    "        else:\n",
    "            print(f\"Please check pokemon name spelling and try again!: {r.status_code}\")\n",
    "            return #we won't get anything back at this point becuase we have no data to return yet\n",
    "        \n",
    "        self.name = pokemon[\"name\"]\n",
    "        self.types = [pokemon[\"type\"][\"name\"] for pokemon in pokemon[\"types\"]]\n",
    "        self.abilities = [pokemon[\"ability\"][\"name\"] for pokemon in pokemon[\"abilities\"]]\n",
    "        self.weight = pokemon[\"weight\"]\n",
    "        self.moves = [pokemon[\"move\"][\"name\"] for pokemon in pokemon [\"moves\"]]\n",
    "        print(f\"{self.name}'s data has been updated!\")\n",
    "    \n",
    "    def __repr__(self): #this is giving us information about the object (which attributes exist inside of it)\n",
    "        return f\"You caught a {self.name}!!\"\n",
    "        "
   ]
  },
  {
   "cell_type": "markdown",
   "metadata": {},
   "source": [
    "### Let's Catch some Pokemon"
   ]
  },
  {
   "cell_type": "code",
   "execution_count": 24,
   "metadata": {},
   "outputs": [
    {
     "ename": "TypeError",
     "evalue": "'str' object is not callable",
     "output_type": "error",
     "traceback": [
      "\u001b[0;31m---------------------------------------------------------------------------\u001b[0m",
      "\u001b[0;31mTypeError\u001b[0m                                 Traceback (most recent call last)",
      "Input \u001b[0;32mIn [24]\u001b[0m, in \u001b[0;36m<cell line: 1>\u001b[0;34m()\u001b[0m\n\u001b[0;32m----> 1\u001b[0m diglett \u001b[38;5;241m=\u001b[39m \u001b[43mpokemon\u001b[49m\u001b[43m(\u001b[49m\u001b[38;5;124;43m\"\u001b[39;49m\u001b[38;5;124;43mdiglett\u001b[39;49m\u001b[38;5;124;43m\"\u001b[39;49m\u001b[43m)\u001b[49m\n\u001b[1;32m      2\u001b[0m \u001b[38;5;28mprint\u001b[39m(diglett)\n",
      "\u001b[0;31mTypeError\u001b[0m: 'str' object is not callable"
     ]
    }
   ],
   "source": [
    "diglett = pokemon(\"diglett\")\n",
    "print(diglett)\n"
   ]
  },
  {
   "cell_type": "code",
   "execution_count": null,
   "metadata": {},
   "outputs": [],
   "source": []
  },
  {
   "cell_type": "markdown",
   "metadata": {},
   "source": [
    "## Exercise 1:"
   ]
  },
  {
   "cell_type": "markdown",
   "metadata": {},
   "source": [
    "### Create a Method prints an image of your pokemon\n",
    "\n",
    "<p>HINT: You may need another attribute as well to store your image url within. </p>"
   ]
  },
  {
   "cell_type": "code",
   "execution_count": null,
   "metadata": {},
   "outputs": [],
   "source": [
    "# Display an image in Jupyter notebook\n",
    "#from IPython.display import Image\n",
    "\n",
    "#display(Image( 'https://i.redd.it/45n4mhusa8l41.jpg', width = 300))\n"
   ]
  },
  {
   "cell_type": "code",
   "execution_count": null,
   "metadata": {},
   "outputs": [],
   "source": [
    "# recreate your pokemon class here\n",
    "#import requests \n",
    "#from IPython.display import Image\n",
    "\n",
    "#class Pokemon(Evolver):\n",
    "    #def __init__(self, name): #name is the only one we need to provide, the others will be default values\n",
    "        #self.name = name\n",
    "        #self.types = []\n",
    "        #self.abilities = []\n",
    "        #self.weight = None\n",
    "        #self.image = None\n",
    "        #new image attribute \n",
    "        #self.poke_api_call() #when we instantiate this, we plug in our pokemon name and get data back (hehe wut the wut)\n",
    "        \n",
    "    #def poke_api_call(self):\n",
    "        #r = requests.get(f\"https://pokeapi.co/api/v2/pokemon/{self.name.lower()}\")\n",
    "        #if r.status_code == 200:\n",
    "            #pokemon = r.json() #pokemon is our current data\n",
    "        #else:\n",
    "            #print(f\"Please check pokemon name spelling and try again!: {r.status_code}\")\n",
    "            #return #we won't get anything back at this point becuase we have no data to return yet\n",
    "        \n",
    "        #self.name = pokemon[\"name\"]\n",
    "        #self.types = [pokemon[\"type\"][\"name\"] for pokemon in pokemon[\"types\"]]\n",
    "        #self.abilities = [pokemon[\"ability\"][\"name\"] for pokemon in pokemon[\"abilities\"]]\n",
    "        #self.weight = pokemon[\"weight\"]\n",
    "        #new image details\n",
    "        #self.image = pokemon[\"sprites\"][\"front_shiny\"] #this will give this image as a URL, so what we need to do is display our image with a method\n",
    "        #print(f\"{self.name}'s data has been updated!\")\n",
    "            \n",
    "    #display our image with a method\n",
    "    #def display(self):\n",
    "        #display(Image(url = self.image))\n",
    "       \n",
    "    \n",
    "    #def __repr__(self): #this is giving us information about the object (which attributes exist inside of it)\n",
    "        #return f\"You caught a {self.name}!!\"\n",
    "\n"
   ]
  },
  {
   "cell_type": "code",
   "execution_count": null,
   "metadata": {},
   "outputs": [],
   "source": [
    "#diglett = Pokemon(\"diglett\")\n",
    "\n",
    "#diglett.display()"
   ]
  },
  {
   "cell_type": "code",
   "execution_count": null,
   "metadata": {},
   "outputs": [],
   "source": [
    "# Calling our new method\n"
   ]
  },
  {
   "cell_type": "markdown",
   "metadata": {},
   "source": [
    "## Exercise 2:"
   ]
  },
  {
   "cell_type": "markdown",
   "metadata": {},
   "source": [
    "### Create a Method that evolves your Pokemon\n",
    "If your pokemon can't evolve any further print a message that says \"\\<name of pokemon> can't evolve.\""
   ]
  },
  {
   "cell_type": "code",
   "execution_count": null,
   "metadata": {},
   "outputs": [],
   "source": [
    "from time import sleep\n",
    "class Evolver:\n",
    "        def evolve(self):\n",
    "        # API call for pokemon's species\n",
    "            r = requests.get(f\"https://pokeapi.co/api/v2/pokemon-species/{self.name}/\")\n",
    "            if r.status_code == 200:\n",
    "                pokemon_species = r.json()\n",
    "            else:\n",
    "                print(f\"Ran into an issue, please check your pokemon's name {r.status_code}\")\n",
    "                return\n",
    "\n",
    "        #API call for species evolutionary chain\n",
    "        r = requests.get(pokemon_species['evolution_chain']['url'])\n",
    "        if r.status_code == 200:\n",
    "            ev_chain = r.json()\n",
    "            ev_chain = ev_chain['chain']\n",
    "        else:\n",
    "            print(f\"Ran into an issue, please check your pokemon's name {r.status_code}\")\n",
    "            return\n",
    "        \n",
    "        #base_name is now ev_chain and we wanna grab species and name in dict under chain\n",
    "        #print(base_name, 'base name')\n",
    "        base_name = ev_chain[\"species\"][\"name\"] \n",
    "        evolution = ev_chain['evolves_to'][0] #go to the evolves to list in API\n",
    "        evolution_name = evolution['species']['name']\n",
    "        \n",
    "        # Evolution 1\n",
    "        if base_name == self.name:\n",
    "            pass\n",
    "            \n",
    "        # Evolution 2\n",
    "        elif evolution_name == self.name:\n",
    "            evolution_name = evolution['evolves_to'][0]['species']['name']\n",
    "      \n",
    "        # Evolution 3\n",
    "        else:\n",
    "            print(f\"You can't evolve your {self.name} anymore. \")\n",
    "            return\n",
    "        \n",
    "        print('.......')\n",
    "        sleep(1)\n",
    "        print(f\"Your {self.name} is evolving?!\")\n",
    "        self.display()\n",
    "        sleep(1)\n",
    "        print('.......')\n",
    "        self.name = evolution_name #pull that from the species\n",
    "        self.poke_api_call()\n",
    "        self.display()\n"
   ]
  },
  {
   "cell_type": "code",
   "execution_count": null,
   "metadata": {},
   "outputs": [],
   "source": []
  },
  {
   "cell_type": "markdown",
   "metadata": {},
   "source": [
    "Now let's evolve a few"
   ]
  },
  {
   "cell_type": "code",
   "execution_count": null,
   "metadata": {
    "scrolled": true
   },
   "outputs": [],
   "source": []
  },
  {
   "cell_type": "code",
   "execution_count": null,
   "metadata": {},
   "outputs": [],
   "source": []
  },
  {
   "cell_type": "code",
   "execution_count": 41,
   "metadata": {},
   "outputs": [
    {
     "name": "stdout",
     "output_type": "stream",
     "text": [
      "diglett's data has been updated!\n"
     ]
    }
   ],
   "source": [
    "diglett = Pokemon(\"diglett\")\n"
   ]
  },
  {
   "cell_type": "markdown",
   "metadata": {},
   "source": [
    "#  Final Exercise: <br> <br>Create a Move_Tutor Class that will allow the Pokemon Class to inherit a move list.\n",
    "<br>\n",
    "<p>for an added bonus you can make sure that if a pokemon has 4 moves the user can choose one of them to replace with a new move. </p>"
   ]
  },
  {
   "cell_type": "code",
   "execution_count": 39,
   "metadata": {},
   "outputs": [],
   "source": [
    "#PARENT\n",
    "class Move_Tutor:\n",
    "    moves = [move[\"move\"][\"name\"] for move in data[\"moves\"]]\n",
    "    def __init__(self, name, moves):\n",
    "        self.name = name\n",
    "        self.moves = []\n",
    "        self.poke_api_call()\n",
    "        \n",
    "    def poke_api_call(self):\n",
    "        r = requests.get(f\"https://pokeapi.co/api/v2/pokemon/{self.name.lower()}\")\n",
    "        if r.status_code == 200:\n",
    "            pokemon = r.json() #pokemon is our current data\n",
    "        else:\n",
    "            print(f\"Please check pokemon name spelling and try again!: {r.status_code}\")\n",
    "            return #we won't get anything back at this point becuase we have no data to return yet\n",
    "    \n",
    "\n",
    "        \n",
    "        \n",
    "        \n",
    "        \n",
    "        \n"
   ]
  },
  {
   "cell_type": "code",
   "execution_count": 37,
   "metadata": {},
   "outputs": [
    {
     "name": "stdout",
     "output_type": "stream",
     "text": [
      "diglett's data has been updated!\n"
     ]
    },
    {
     "data": {
      "text/plain": [
       "['scratch',\n",
       " 'cut',\n",
       " 'sand-attack',\n",
       " 'headbutt',\n",
       " 'body-slam',\n",
       " 'take-down',\n",
       " 'double-edge',\n",
       " 'growl',\n",
       " 'earthquake',\n",
       " 'fissure',\n",
       " 'dig',\n",
       " 'toxic',\n",
       " 'agility',\n",
       " 'rage',\n",
       " 'mimic',\n",
       " 'screech',\n",
       " 'double-team',\n",
       " 'bide',\n",
       " 'fury-swipes',\n",
       " 'rest',\n",
       " 'rock-slide',\n",
       " 'slash',\n",
       " 'substitute',\n",
       " 'thief',\n",
       " 'snore',\n",
       " 'curse',\n",
       " 'reversal',\n",
       " 'protect',\n",
       " 'feint-attack',\n",
       " 'sludge-bomb',\n",
       " 'mud-slap',\n",
       " 'sandstorm',\n",
       " 'endure',\n",
       " 'swagger',\n",
       " 'attract',\n",
       " 'sleep-talk',\n",
       " 'return',\n",
       " 'frustration',\n",
       " 'magnitude',\n",
       " 'pursuit',\n",
       " 'hidden-power',\n",
       " 'sunny-day',\n",
       " 'ancient-power',\n",
       " 'rock-smash',\n",
       " 'beat-up',\n",
       " 'uproar',\n",
       " 'memento',\n",
       " 'facade',\n",
       " 'secret-power',\n",
       " 'astonish',\n",
       " 'rock-tomb',\n",
       " 'aerial-ace',\n",
       " 'natural-gift',\n",
       " 'assurance',\n",
       " 'sucker-punch',\n",
       " 'earth-power',\n",
       " 'shadow-claw',\n",
       " 'mud-bomb',\n",
       " 'captivate',\n",
       " 'stealth-rock',\n",
       " 'hone-claws',\n",
       " 'round',\n",
       " 'echoed-voice',\n",
       " 'ally-switch',\n",
       " 'final-gambit',\n",
       " 'bulldoze',\n",
       " 'work-up',\n",
       " 'confide',\n",
       " 'stomping-tantrum',\n",
       " 'scorching-sands']"
      ]
     },
     "execution_count": 37,
     "metadata": {},
     "output_type": "execute_result"
    }
   ],
   "source": [
    "#CHILD\n",
    "class Pokemon(Move_Tutor):\n",
    "    \n",
    "    def __init__(self, name): \n",
    "        self.name = name\n",
    "        self.types = []\n",
    "        self.abilities = []\n",
    "        self.weight = None\n",
    "        self.poke_api_call() \n",
    "        \n",
    "    def poke_api_call(self):\n",
    "        r = requests.get(f\"https://pokeapi.co/api/v2/pokemon/{self.name.lower()}\")\n",
    "        if r.status_code == 200:\n",
    "            pokemon = r.json() \n",
    "        else:\n",
    "            print(f\"Please check pokemon name spelling and try again!: {r.status_code}\")\n",
    "            return \n",
    "        \n",
    "        self.name = pokemon[\"name\"]\n",
    "        self.types = [pokemon[\"type\"][\"name\"] for pokemon in pokemon[\"types\"]]\n",
    "        self.abilities = [pokemon[\"ability\"][\"name\"] for pokemon in pokemon[\"abilities\"]]\n",
    "        self.weight = pokemon[\"weight\"]\n",
    "        \n",
    "        print(f\"{self.name}'s data has been updated!\")\n",
    "\n",
    "diglett = Pokemon(\"diglett\")\n",
    "diglett.moves\n"
   ]
  }
 ],
 "metadata": {
  "kernelspec": {
   "display_name": "Python 3 (ipykernel)",
   "language": "python",
   "name": "python3"
  },
  "language_info": {
   "codemirror_mode": {
    "name": "ipython",
    "version": 3
   },
   "file_extension": ".py",
   "mimetype": "text/x-python",
   "name": "python",
   "nbconvert_exporter": "python",
   "pygments_lexer": "ipython3",
   "version": "3.9.12"
  }
 },
 "nbformat": 4,
 "nbformat_minor": 4
}
